{
 "cells": [
  {
   "cell_type": "markdown",
   "id": "a0d1a8dc-b853-4cf8-8f1e-075b6a42198f",
   "metadata": {},
   "source": [
    "### Food Ordering Chatbot using NLP, Logistic Regression, and TF-IDF Vectorizer"
   ]
  },
  {
   "cell_type": "markdown",
   "id": "68e1f676-7b7f-45c9-981b-340331bc649a",
   "metadata": {},
   "source": [
    "This notebook demonstrates the creation of a simple food ordering chatbot using machine learning techniques. The chatbot is designed to assist users in placing food orders by understanding natural language inputs and generating responses based on predefined intents and patterns.\n",
    "\n",
    "### The key components of the chatbot include:\n",
    "\n",
    "### Intents and Patterns:\n",
    "Predefined categories (intents) like greetings, placing orders, and providing personal details (name, phone number, and address). Each intent has a set of sample user inputs (patterns) that the model uses for training.\n",
    "\n",
    "### TF-IDF Vectorization: \n",
    "The user inputs are transformed into numerical form using the TfidfVectorizer from scikit-learn, which helps in understanding the text's importance and context.\n",
    "\n",
    "### Logistic Regression: \n",
    "A machine learning classifier that is trained on the intents and patterns. It predicts the user's intent from their input and responds accordingly.\n",
    "\n",
    "### Regular Expressions (re module): \n",
    "Used to extract details like the user's name, address, and quantity of the order.\n",
    "\n",
    "The chatbot follows a simple conversational flow, guiding the user through the process of placing an order, asking for necessary details, and confirming the order at the end.\n",
    "\n"
   ]
  },
  {
   "cell_type": "code",
   "execution_count": 1,
   "id": "945b90ca-5126-440f-92f5-078742ea29fd",
   "metadata": {},
   "outputs": [
    {
     "name": "stdout",
     "output_type": "stream",
     "text": [
      "Chatbot: Hi! How can I assist you with your food order today?\n"
     ]
    },
    {
     "name": "stdin",
     "output_type": "stream",
     "text": [
      "You:  hi\n"
     ]
    },
    {
     "name": "stdout",
     "output_type": "stream",
     "text": [
      "Chatbot: Hi there! How can I help you with your food order today?\n"
     ]
    },
    {
     "name": "stdin",
     "output_type": "stream",
     "text": [
      "You:  order food\n"
     ]
    },
    {
     "name": "stdout",
     "output_type": "stream",
     "text": [
      "Chatbot: Sure! I'll need some details to complete your order.\n"
     ]
    },
    {
     "name": "stdin",
     "output_type": "stream",
     "text": [
      "You:  ok\n"
     ]
    },
    {
     "name": "stdout",
     "output_type": "stream",
     "text": [
      "Chatbot: Please provide your name in the format 'My name is [Your Name]'.\n"
     ]
    },
    {
     "name": "stdin",
     "output_type": "stream",
     "text": [
      "You:  my name is kapish\n"
     ]
    },
    {
     "name": "stdout",
     "output_type": "stream",
     "text": [
      "Chatbot: Got it, kapish. What would you like to order?\n"
     ]
    },
    {
     "name": "stdin",
     "output_type": "stream",
     "text": [
      "You:  i want t order pizza\n"
     ]
    },
    {
     "name": "stdout",
     "output_type": "stream",
     "text": [
      "Chatbot: Great choice! How many of these would you like?\n"
     ]
    },
    {
     "name": "stdin",
     "output_type": "stream",
     "text": [
      "You:  2\n"
     ]
    },
    {
     "name": "stdout",
     "output_type": "stream",
     "text": [
      "Chatbot: Thank you! Your order is confirmed.\n",
      "Chatbot: Order Summary - Name: kapish, Phone: None, Address: None, Order: t order pizza, Quantity: 2\n",
      "Chatbot: Your order will be delivered shortly.\n"
     ]
    }
   ],
   "source": [
    "import random\n",
    "import re\n",
    "from sklearn.feature_extraction.text import TfidfVectorizer\n",
    "from sklearn.linear_model import LogisticRegression\n",
    "\n",
    "# Define intents and responses for food ordering\n",
    "intents = [\n",
    "    {\"tag\": \"greeting\", \"patterns\": [\"Hi\", \"Hello\", \"Hey\", \"How are you\"], \"responses\": [\"Hi there! How can I help you with your food order today?\", \"Hello! Ready to take your order.\", \"Hey! What would you like to order today?\"]},\n",
    "    {\"tag\": \"order\", \"patterns\": [\"I want to order\", \"I'd like to order\", \"Can I place an order\", \"I would like to order\"], \"responses\": [\"Sure! I'll need some details to complete your order.\"]},\n",
    "    {\"tag\": \"name\", \"patterns\": [\"My name is\", \"I am\", \"Call me\"], \"responses\": [\"Got it, {name}. What would you like to order?\"]},\n",
    "    {\"tag\": \"phone\", \"patterns\": [\"My phone number is\", \"Call me at\", \"You can reach me at\"], \"responses\": [\"Thank you! I have noted your phone number.\"]},\n",
    "    {\"tag\": \"address\", \"patterns\": [\"My address is\", \"I live at\", \"Deliver to\"], \"responses\": [\"Got it, I'll deliver to {address}.\"]},\n",
    "    {\"tag\": \"order_details\", \"patterns\": [\"I want\", \"I would like\", \"I'll have\", \"Get me\"], \"responses\": [\"Great choice! How many of these would you like?\"]},\n",
    "    {\"tag\": \"quantity\", \"patterns\": [\"Quantity\", \"Number\", \"How many\"], \"responses\": [\"Thank you! Your order is confirmed.\"]},\n",
    "    {\"tag\": \"thanks\", \"patterns\": [\"Thank you\", \"Thanks\", \"I appreciate it\"], \"responses\": [\"You're welcome! Your order will be delivered shortly.\"]},\n",
    "    {\"tag\": \"goodbye\", \"patterns\": [\"Bye\", \"See you later\", \"Goodbye\", \"Take care\"], \"responses\": [\"Goodbye! Have a great day!\"]}\n",
    "]\n",
    "\n",
    "# Create the vectorizer and classifier\n",
    "vectorizer = TfidfVectorizer()\n",
    "clf = LogisticRegression(random_state=0, max_iter=10000)\n",
    "\n",
    "# Preprocess the data\n",
    "tags = []\n",
    "patterns = []\n",
    "for intent in intents:\n",
    "    for pattern in intent['patterns']:\n",
    "        tags.append(intent['tag'])\n",
    "        patterns.append(pattern)\n",
    "\n",
    "# Train the model\n",
    "x = vectorizer.fit_transform(patterns)\n",
    "y = tags\n",
    "clf.fit(x, y)\n",
    "\n",
    "# Define the chatbot function\n",
    "def chatbot(input_text, user_info):\n",
    "    input_text = vectorizer.transform([input_text])\n",
    "    tag = clf.predict(input_text)[0]\n",
    "    \n",
    "    response = \"\"\n",
    "    for intent in intents:\n",
    "        if intent['tag'] == tag:\n",
    "            response = random.choice(intent['responses'])\n",
    "            if \"{name}\" in response:\n",
    "                response = response.format(name=user_info.get('name', ''))\n",
    "            if \"{address}\" in response:\n",
    "                response = response.format(address=user_info.get('address', ''))\n",
    "            return response\n",
    "    return \"Sorry, I didn't understand that. Could you please provide more details?\"\n",
    "\n",
    "# Define the chat function\n",
    "def chat():\n",
    "    user_info = {}\n",
    "    state = \"greeting\"\n",
    "    print(\"Chatbot: Hi! How can I assist you with your food order today?\")\n",
    "    \n",
    "    while True:\n",
    "        user_input = input(\"You: \").strip().lower()\n",
    "        \n",
    "        if user_input in ['exit', 'quit', 'bye']:\n",
    "            print(\"Chatbot: Goodbye! Have a great day!\")\n",
    "            break\n",
    "        \n",
    "        if state == \"greeting\" and \"order\" in user_input:\n",
    "            print(\"Chatbot: Sure! I'll need some details to complete your order.\")\n",
    "            state = \"name\"\n",
    "        elif state == \"name\":\n",
    "            if \"name is\" in user_input:\n",
    "                user_info['name'] = user_input.split('name is ')[-1].strip()\n",
    "                print(f\"Chatbot: Got it, {user_info['name']}. What would you like to order?\")\n",
    "                state = \"order_details\"\n",
    "            else:\n",
    "                print(\"Chatbot: Please provide your name in the format 'My name is [Your Name]'.\")\n",
    "        elif state == \"order_details\":\n",
    "            match = re.search(r'(?:i want |i would like |i\\'ll have |get me )(.+)', user_input)\n",
    "            if match:\n",
    "                user_info['order'] = match.group(1).strip()\n",
    "                print(\"Chatbot: Great choice! How many of these would you like?\")\n",
    "                state = \"quantity\"\n",
    "            else:\n",
    "                print(\"Chatbot: Please specify your order in the format 'I want [Dish Name]'.\")\n",
    "        elif state == \"quantity\":\n",
    "            if re.search(r'\\b\\d+\\b', user_input):\n",
    "                user_info['quantity'] = re.search(r'\\b\\d+\\b', user_input).group()\n",
    "                print(\"Chatbot: Thank you! Your order is confirmed.\")\n",
    "                print(f\"Chatbot: Order Summary - Name: {user_info.get('name')}, Phone: {user_info.get('phone')}, Address: {user_info.get('address')}, Order: {user_info.get('order')}, Quantity: {user_info.get('quantity')}\")\n",
    "                print(\"Chatbot: Your order will be delivered shortly.\")\n",
    "                break\n",
    "            else:\n",
    "                print(\"Chatbot: Please provide the quantity in a numeric format.\")\n",
    "        elif state == \"phone\":\n",
    "            if \"phone number is\" in user_input:\n",
    "                user_info['phone'] = user_input.split('phone number is ')[-1].strip()\n",
    "                print(\"Chatbot: Thank you! I have noted your phone number.\")\n",
    "                state = \"address\"\n",
    "            else:\n",
    "                print(\"Chatbot: Please provide your phone number in the format 'My phone number is [Your Phone Number]'.\")\n",
    "        elif state == \"address\":\n",
    "            if \"address is\" in user_input:\n",
    "                user_info['address'] = user_input.split('address is ')[-1].strip()\n",
    "                print(f\"Chatbot: Got it, I'll deliver to {user_info['address']}.\")\n",
    "                state = \"order_details\"\n",
    "            else:\n",
    "                print(\"Chatbot: Please provide your address in the format 'My address is [Your Address]'.\")\n",
    "        else:\n",
    "            response = chatbot(user_input, user_info)\n",
    "            print(f\"Chatbot: {response}\")\n",
    "\n",
    "# Run the chatbot\n",
    "chat()\n"
   ]
  },
  {
   "cell_type": "code",
   "execution_count": null,
   "id": "9ab44c8c-1bdc-4ba5-8ed8-2e31603db9da",
   "metadata": {},
   "outputs": [],
   "source": []
  }
 ],
 "metadata": {
  "kernelspec": {
   "display_name": "Python 3 (ipykernel)",
   "language": "python",
   "name": "python3"
  },
  "language_info": {
   "codemirror_mode": {
    "name": "ipython",
    "version": 3
   },
   "file_extension": ".py",
   "mimetype": "text/x-python",
   "name": "python",
   "nbconvert_exporter": "python",
   "pygments_lexer": "ipython3",
   "version": "3.11.7"
  }
 },
 "nbformat": 4,
 "nbformat_minor": 5
}
